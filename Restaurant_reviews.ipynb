{
  "nbformat": 4,
  "nbformat_minor": 0,
  "metadata": {
    "colab": {
      "name": " Restaurant_reviews.ipynb",
      "provenance": [],
      "collapsed_sections": [],
      "include_colab_link": true
    },
    "kernelspec": {
      "name": "python3",
      "display_name": "Python 3"
    },
    "language_info": {
      "name": "python"
    }
  },
  "cells": [
    {
      "cell_type": "markdown",
      "metadata": {
        "id": "view-in-github",
        "colab_type": "text"
      },
      "source": [
        "<a href=\"https://colab.research.google.com/github/sadafkhan0107/data_science_projects/blob/main/Restaurant_reviews.ipynb\" target=\"_parent\"><img src=\"https://colab.research.google.com/assets/colab-badge.svg\" alt=\"Open In Colab\"/></a>"
      ]
    },
    {
      "cell_type": "markdown",
      "metadata": {
        "id": "A-Mr9AO3rjXT"
      },
      "source": [
        "**NLP analysis of Restaurant reviews**"
      ]
    },
    {
      "cell_type": "markdown",
      "metadata": {
        "id": "Z9dhV_4XtrAr"
      },
      "source": [
        "**Step 1:** Import dataset with setting delimiter as ‘\\t’ as columns are separated as tab space. Reviews and their category(0 or 1) are not separated by any other symbol but with tab space"
      ]
    },
    {
      "cell_type": "code",
      "metadata": {
        "colab": {
          "resources": {
            "http://localhost:8080/nbextensions/google.colab/files.js": {
              "data": "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",
              "ok": true,
              "headers": [
                [
                  "content-type",
                  "application/javascript"
                ]
              ],
              "status": 200,
              "status_text": ""
            }
          },
          "base_uri": "https://localhost:8080/",
          "height": 72
        },
        "id": "mFKI3I8Orc4y",
        "outputId": "7b092fe1-7f42-45fd-d447-f4c4260d56ab"
      },
      "source": [
        "# Importing Libraries\n",
        "import numpy as np\n",
        "import pandas as pd\n",
        "\n",
        "from google.colab import files\n",
        "uploaded= files.upload()\n"
      ],
      "execution_count": null,
      "outputs": [
        {
          "output_type": "display_data",
          "data": {
            "text/html": [
              "\n",
              "     <input type=\"file\" id=\"files-975391a7-2c56-415a-a0b2-41f465fa55bd\" name=\"files[]\" multiple disabled\n",
              "        style=\"border:none\" />\n",
              "     <output id=\"result-975391a7-2c56-415a-a0b2-41f465fa55bd\">\n",
              "      Upload widget is only available when the cell has been executed in the\n",
              "      current browser session. Please rerun this cell to enable.\n",
              "      </output>\n",
              "      <script src=\"/nbextensions/google.colab/files.js\"></script> "
            ],
            "text/plain": [
              "<IPython.core.display.HTML object>"
            ]
          },
          "metadata": {
            "tags": []
          }
        },
        {
          "output_type": "stream",
          "text": [
            "Saving Restaurant_Reviews.tsv to Restaurant_Reviews.tsv\n"
          ],
          "name": "stdout"
        }
      ]
    },
    {
      "cell_type": "code",
      "metadata": {
        "id": "KXk8tMvyr5Fo"
      },
      "source": [
        "# Import dataset\n",
        "dataset = pd.read_csv('Restaurant_Reviews.tsv', delimiter = '\\t')"
      ],
      "execution_count": null,
      "outputs": []
    },
    {
      "cell_type": "markdown",
      "metadata": {
        "id": "Y6CWdqVcuCtU"
      },
      "source": [
        "**Step 2:** Text Cleaning or Preprocessing"
      ]
    },
    {
      "cell_type": "markdown",
      "metadata": {
        "id": "MrvMLcxWuSIZ"
      },
      "source": [
        "\n",
        "\n",
        "*   **Remove Punctuations, Numbers:** Punctuations, Numbers doesn’t help much in processong the given text, if included, they will just increase the size of bag of words that we will create as last step and decrease the efficiency of algorithm.\n",
        "*   **Stemming:** Take roots of the word\n",
        "\n",
        " ![image.png](data:image/png;base64,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)\n",
        "\n",
        "\n",
        "\n",
        "*   **Convert each word into its lower case:** For example, it useless to have same words in different cases (eg ‘good’ and ‘GOOD’)\n",
        "\n"
      ]
    },
    {
      "cell_type": "code",
      "metadata": {
        "colab": {
          "base_uri": "https://localhost:8080/"
        },
        "id": "QdjePFkItorL",
        "outputId": "cfd092e1-6e15-44e0-c85e-d2320605852b"
      },
      "source": [
        "# library to clean data\n",
        "import re\n",
        "\n",
        "# Natural Language Tool Kit\n",
        "import nltk\n",
        "\n",
        "nltk.download('stopwords')\n",
        "\n",
        "# to remove stopword\n",
        "from nltk.corpus import stopwords\n",
        "\n",
        "# for Stemming propose\n",
        "from nltk.stem.porter import PorterStemmer\n",
        "\n",
        "# Initialize empty array\n",
        "# to append clean text\n",
        "corpus = []\n",
        "\n",
        "# 1000 (reviews) rows to clean\n",
        "for i in range(0, 1000):\n",
        "\t\n",
        "\t# column : \"Review\", row ith\n",
        "\treview = re.sub('[^a-zA-Z]', ' ', dataset['Review'][i])\n",
        "\t\n",
        "\t# convert all cases to lower cases\n",
        "\treview = review.lower()\n",
        "\t\n",
        "\t# split to array(default delimiter is \" \")\n",
        "\treview = review.split()\n",
        "\t\n",
        "\t# creating PorterStemmer object to\n",
        "\t# take main stem of each word\n",
        "\tps = PorterStemmer()\n",
        "\t\n",
        "\t# loop for stemming each word\n",
        "\t# in string array at ith row\n",
        "\treview = [ps.stem(word) for word in review\n",
        "\t\t\t\tif not word in set(stopwords.words('english'))]\n",
        "\t\t\t\t\n",
        "\t# rejoin all string array elements\n",
        "\t# to create back into a string\n",
        "\treview = ' '.join(review)\n",
        "\t\n",
        "\t# append each string to create\n",
        "\t# array of clean text\n",
        "\tcorpus.append(review)\n"
      ],
      "execution_count": null,
      "outputs": [
        {
          "output_type": "stream",
          "text": [
            "[nltk_data] Downloading package stopwords to /root/nltk_data...\n",
            "[nltk_data]   Unzipping corpora/stopwords.zip.\n"
          ],
          "name": "stdout"
        }
      ]
    },
    {
      "cell_type": "markdown",
      "metadata": {
        "id": "xuZX2oW4vwqh"
      },
      "source": [
        "**Step 3:** Tokenization, involves splitting sentences and words from the body of the text."
      ]
    },
    {
      "cell_type": "markdown",
      "metadata": {
        "id": "_VsEWrw1v9oZ"
      },
      "source": [
        "**Step 4:** Making the bag of words via sparse matrix"
      ]
    },
    {
      "cell_type": "markdown",
      "metadata": {
        "id": "NCvBf0ojv4NW"
      },
      "source": [
        "\n",
        "\n",
        "*   Take all the different words of reviews in the dataset without repeating of words.\n",
        "*   One column for each word, therefore there are going to be many columns.\n",
        "Rows are reviews\n",
        "\n",
        "\n",
        "*   One column for each word, therefore there are going to be many columns.\n",
        "*   Rows are reviews\n",
        "\n",
        "\n",
        "\n"
      ]
    },
    {
      "cell_type": "code",
      "metadata": {
        "id": "TtJFUbStwrvn"
      },
      "source": [
        "# Creating the Bag of Words model\n",
        "from sklearn.feature_extraction.text import CountVectorizer\n",
        "\n",
        "# To extract max 1500 feature.\n",
        "# \"max_features\" is attribute to\n",
        "# experiment with to get better results\n",
        "cv = CountVectorizer(max_features = 1500)\n",
        "\n",
        "# X contains corpus (dependent variable)\n",
        "X = cv.fit_transform(corpus).toarray()\n",
        "\n",
        "# y contains answers if review\n",
        "# is positive or negative\n",
        "y = dataset.iloc[:, 1].values\n"
      ],
      "execution_count": null,
      "outputs": []
    },
    {
      "cell_type": "markdown",
      "metadata": {
        "id": "8R-ggMIHw0z-"
      },
      "source": [
        "**Step 5 :** Splitting Corpus into Training and Test set. For this, we need class train_test_split from sklearn.cross_validation. Split can be made 70/30 or 80/20 or 85/15 or 75/25, here I choose 75/25 via “test_size”. \n",
        "X is the bag of words, y is 0 or 1 (positive or negative)"
      ]
    },
    {
      "cell_type": "code",
      "metadata": {
        "id": "Ht22UWkrwsqn"
      },
      "source": [
        "# Splitting the dataset into\n",
        "# the Training set and Test set\n",
        "from sklearn.model_selection import train_test_split\n",
        "\n",
        "# experiment with \"test_size\"\n",
        "# to get better results\n",
        "X_train, X_test, y_train, y_test = train_test_split(X, y, test_size = 0.25)\n"
      ],
      "execution_count": null,
      "outputs": []
    },
    {
      "cell_type": "markdown",
      "metadata": {
        "id": "u7DizFFNxmko"
      },
      "source": [
        "**Step 6:** Fitting a Predictive Model (here random forest) "
      ]
    },
    {
      "cell_type": "markdown",
      "metadata": {
        "id": "DBkgqpCYxrVT"
      },
      "source": [
        "\n",
        "\n",
        "*   Since Random fored is ensemble model (made of many trees) from sklearn.ensemble, import RandomForestClassifier class\n",
        "*   With 501 tree or “n_estimators” and criterion as ‘entropy’\n",
        "\n",
        "\n",
        "*   With 501 tree or “n_estimators” and criterion as ‘entropy’\n",
        "\n",
        "\n",
        "\n"
      ]
    },
    {
      "cell_type": "code",
      "metadata": {
        "colab": {
          "base_uri": "https://localhost:8080/"
        },
        "id": "oBqNxdUvw6Yq",
        "outputId": "2d4c6f64-ea98-455f-9980-5684e0711ea8"
      },
      "source": [
        "# Fitting Random Forest Classification\n",
        "# to the Training set\n",
        "from sklearn.ensemble import RandomForestClassifier\n",
        "\n",
        "# n_estimators can be said as number of\n",
        "# trees, experiment with n_estimators\n",
        "# to get better results\n",
        "model = RandomForestClassifier(n_estimators = 501,\n",
        "\t\t\t\t\t\t\tcriterion = 'entropy')\n",
        "\t\t\t\t\t\t\t\n",
        "model.fit(X_train, y_train)\n"
      ],
      "execution_count": null,
      "outputs": [
        {
          "output_type": "execute_result",
          "data": {
            "text/plain": [
              "RandomForestClassifier(bootstrap=True, ccp_alpha=0.0, class_weight=None,\n",
              "                       criterion='entropy', max_depth=None, max_features='auto',\n",
              "                       max_leaf_nodes=None, max_samples=None,\n",
              "                       min_impurity_decrease=0.0, min_impurity_split=None,\n",
              "                       min_samples_leaf=1, min_samples_split=2,\n",
              "                       min_weight_fraction_leaf=0.0, n_estimators=501,\n",
              "                       n_jobs=None, oob_score=False, random_state=None,\n",
              "                       verbose=0, warm_start=False)"
            ]
          },
          "metadata": {
            "tags": []
          },
          "execution_count": 8
        }
      ]
    },
    {
      "cell_type": "markdown",
      "metadata": {
        "id": "o8dKtrrhyCJn"
      },
      "source": [
        "**Step 7:** Predicting Final Results via using .predict() method with attribute X_test "
      ]
    },
    {
      "cell_type": "code",
      "metadata": {
        "colab": {
          "base_uri": "https://localhost:8080/"
        },
        "id": "dm14fso2x9ah",
        "outputId": "82f06049-6b35-4bdb-a9ea-ffba620ef4ff"
      },
      "source": [
        "# Predicting the Test set results\n",
        "y_pred = model.predict(X_test)\n",
        " \n",
        "y_pred\n",
        "\n",
        "acc= round(model.score(X_train,y_train)*100,2)\n",
        "print(str(acc)+'%')"
      ],
      "execution_count": null,
      "outputs": [
        {
          "output_type": "stream",
          "text": [
            "99.73%\n"
          ],
          "name": "stdout"
        }
      ]
    }
  ]
}