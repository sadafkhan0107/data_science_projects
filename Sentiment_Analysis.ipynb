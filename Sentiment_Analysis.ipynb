{
  "nbformat": 4,
  "nbformat_minor": 0,
  "metadata": {
    "colab": {
      "name": "Sentiment Analysis.ipynb",
      "provenance": []
    },
    "kernelspec": {
      "name": "python3",
      "display_name": "Python 3"
    }
  },
  "cells": [
    {
      "cell_type": "markdown",
      "metadata": {
        "id": "mb4V4LP4L_bn"
      },
      "source": [
        "Below is code with a link to a happy or sad dataset which contains 80 images, 40 happy and 40 sad. Create a convolutional neural network that trains to 100% accuracy on these images, which cancels training upon hitting training accuracy of >.999"
      ]
    },
    {
      "cell_type": "code",
      "metadata": {
        "id": "nK4myWaVL2HA",
        "colab": {
          "base_uri": "https://localhost:8080/"
        },
        "outputId": "27f233d8-d34d-4126-d622-884808632560"
      },
      "source": [
        "import tensorflow as tf\n",
        "import os\n",
        "import zipfile\n",
        "\n",
        "\n",
        "DESIRED_ACCURACY = 0.999\n",
        "\n",
        "!wget --no-check-certificate \\\n",
        "    \"https://storage.googleapis.com/laurencemoroney-blog.appspot.com/happy-or-sad.zip\" \\\n",
        "    -O \"/tmp/happy-or-sad.zip\"\n",
        "\n",
        "zip_ref = zipfile.ZipFile(\"/tmp/happy-or-sad.zip\", 'r')\n",
        "zip_ref.extractall(\"/tmp/h-or-s\")\n",
        "zip_ref.close()\n",
        "class myCallback(tf.keras.callbacks.Callback):\n",
        "        def on_epoch_end(self, epoch, logs={}):\n",
        "            try:\n",
        "                if(logs.get('acc')>0.99):\n",
        "                    print(\"\\nReached\")\n",
        "                    self.model.stop_training = True\n",
        "            except:\n",
        "                if(logs.get('accuracy')>0.99):\n",
        "                    print(\"Reached!!!\")\n",
        "                    self.model.stop_training = True\n",
        "        \n",
        "\n",
        "callbacks = myCallback()"
      ],
      "execution_count": null,
      "outputs": [
        {
          "output_type": "stream",
          "text": [
            "--2020-10-30 15:47:55--  https://storage.googleapis.com/laurencemoroney-blog.appspot.com/happy-or-sad.zip\n",
            "Resolving storage.googleapis.com (storage.googleapis.com)... 74.125.20.128, 74.125.195.128, 74.125.142.128, ...\n",
            "Connecting to storage.googleapis.com (storage.googleapis.com)|74.125.20.128|:443... connected.\n",
            "HTTP request sent, awaiting response... 200 OK\n",
            "Length: 2670333 (2.5M) [application/zip]\n",
            "Saving to: ‘/tmp/happy-or-sad.zip’\n",
            "\n",
            "\r/tmp/happy-or-sad.z   0%[                    ]       0  --.-KB/s               \r/tmp/happy-or-sad.z 100%[===================>]   2.55M  --.-KB/s    in 0.01s   \n",
            "\n",
            "2020-10-30 15:47:55 (173 MB/s) - ‘/tmp/happy-or-sad.zip’ saved [2670333/2670333]\n",
            "\n"
          ],
          "name": "stdout"
        }
      ]
    },
    {
      "cell_type": "code",
      "metadata": {
        "id": "n0bXL-wFMJiH"
      },
      "source": [
        "# This Code Block should Define and Compile the Model\n",
        "model = tf.keras.models.Sequential([\n",
        "    # Note the input shape is the desired size of the image 150x150 with 3 bytes color\n",
        "    # This is the first convolution\n",
        "    tf.keras.layers.Conv2D(16, (3,3), activation='relu', input_shape=(150, 150, 3)),\n",
        "    tf.keras.layers.MaxPooling2D(2, 2),\n",
        "    # The second convolution\n",
        "    tf.keras.layers.Conv2D(32, (3,3), activation='relu'),\n",
        "    tf.keras.layers.MaxPooling2D(2,2),\n",
        "    # The third convolution\n",
        "    tf.keras.layers.Conv2D(64, (3,3), activation='relu'),\n",
        "    tf.keras.layers.MaxPooling2D(2,2),\n",
        "    # Flatten the results to feed into a DNN\n",
        "    tf.keras.layers.Flatten(),\n",
        "    # 512 neuron hidden layer\n",
        "    tf.keras.layers.Dense(512, activation='relu'),\n",
        "    # Only 1 output neuron. It will contain a value from 0-1 where 0 for 1 class ('horses') and 1 for the other ('humans')\n",
        "    tf.keras.layers.Dense(1, activation='sigmoid')\n",
        "])\n",
        "\n",
        "from tensorflow.keras.optimizers import RMSprop\n",
        "\n",
        "model.compile(loss='binary_crossentropy',\n",
        "              optimizer=RMSprop(lr=0.001),\n",
        "              metrics=['accuracy'])"
      ],
      "execution_count": null,
      "outputs": []
    },
    {
      "cell_type": "code",
      "metadata": {
        "id": "tbGfQMirMVFH",
        "colab": {
          "base_uri": "https://localhost:8080/"
        },
        "outputId": "2b9104b0-7380-41da-cbea-ff9590ce589e"
      },
      "source": [
        "# This code block should create an instance of an ImageDataGenerator called train_datagen \n",
        "# And a train_generator by calling train_datagen.flow_from_directory\n",
        "\n",
        "from tensorflow.keras.preprocessing.image import ImageDataGenerator\n",
        "\n",
        "train_datagen = ImageDataGenerator(rescale=1/255)\n",
        "\n",
        "train_generator = train_datagen.flow_from_directory(\n",
        "        # Your Code Here\n",
        "        '/tmp/h-or-s',  # This is the source directory for training images\n",
        "        target_size=(150, 150),  # All images will be resized to 150x150\n",
        "        # Since we use binary_crossentropy loss, we need binary labels\n",
        "        class_mode='binary')"
      ],
      "execution_count": null,
      "outputs": [
        {
          "output_type": "stream",
          "text": [
            "Found 80 images belonging to 2 classes.\n"
          ],
          "name": "stdout"
        }
      ]
    },
    {
      "cell_type": "code",
      "metadata": {
        "id": "RBo1bekSMW1k",
        "colab": {
          "base_uri": "https://localhost:8080/"
        },
        "outputId": "e3bc80ed-3231-4dd3-8f1f-19d89fd15973"
      },
      "source": [
        "history = model.fit(\n",
        "      train_generator,\n",
        "      steps_per_epoch=3,  \n",
        "      epochs=20)"
      ],
      "execution_count": null,
      "outputs": [
        {
          "output_type": "stream",
          "text": [
            "Epoch 1/20\n",
            "3/3 [==============================] - 1s 471ms/step - loss: 9.2576 - accuracy: 0.4750\n",
            "Epoch 2/20\n",
            "3/3 [==============================] - 1s 350ms/step - loss: 0.6730 - accuracy: 0.6250\n",
            "Epoch 3/20\n",
            "3/3 [==============================] - 1s 448ms/step - loss: 0.6248 - accuracy: 0.4500\n",
            "Epoch 4/20\n",
            "3/3 [==============================] - 1s 358ms/step - loss: 0.6300 - accuracy: 0.6750\n",
            "Epoch 5/20\n",
            "3/3 [==============================] - 1s 356ms/step - loss: 0.2620 - accuracy: 0.9500\n",
            "Epoch 6/20\n",
            "3/3 [==============================] - 1s 358ms/step - loss: 0.8809 - accuracy: 0.5625\n",
            "Epoch 7/20\n",
            "3/3 [==============================] - 1s 360ms/step - loss: 0.3909 - accuracy: 0.9000\n",
            "Epoch 8/20\n",
            "3/3 [==============================] - 1s 358ms/step - loss: 0.1614 - accuracy: 0.9500\n",
            "Epoch 9/20\n",
            "3/3 [==============================] - 1s 454ms/step - loss: 0.1451 - accuracy: 0.9375\n",
            "Epoch 10/20\n",
            "3/3 [==============================] - 1s 355ms/step - loss: 0.1260 - accuracy: 0.9750\n",
            "Epoch 11/20\n",
            "3/3 [==============================] - 1s 356ms/step - loss: 0.0855 - accuracy: 0.9625\n",
            "Epoch 12/20\n",
            "3/3 [==============================] - 1s 357ms/step - loss: 0.2050 - accuracy: 0.9125\n",
            "Epoch 13/20\n",
            "3/3 [==============================] - 1s 352ms/step - loss: 0.0837 - accuracy: 0.9750\n",
            "Epoch 14/20\n",
            "3/3 [==============================] - 1s 354ms/step - loss: 0.0683 - accuracy: 0.9625\n",
            "Epoch 15/20\n",
            "3/3 [==============================] - 1s 362ms/step - loss: 0.0340 - accuracy: 1.0000\n",
            "Epoch 16/20\n",
            "3/3 [==============================] - 1s 446ms/step - loss: 0.0590 - accuracy: 0.9875\n",
            "Epoch 17/20\n",
            "3/3 [==============================] - 1s 361ms/step - loss: 0.0321 - accuracy: 1.0000\n",
            "Epoch 18/20\n",
            "3/3 [==============================] - 1s 448ms/step - loss: 0.0535 - accuracy: 0.9750\n",
            "Epoch 19/20\n",
            "3/3 [==============================] - 1s 355ms/step - loss: 0.0226 - accuracy: 1.0000\n",
            "Epoch 20/20\n",
            "3/3 [==============================] - 1s 375ms/step - loss: 0.0210 - accuracy: 1.0000\n"
          ],
          "name": "stdout"
        }
      ]
    }
  ]
}